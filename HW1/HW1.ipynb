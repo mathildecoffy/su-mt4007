{
 "cells": [
  {
   "cell_type": "markdown",
   "id": "b3e2fada-dd98-4682-820a-e122e34b8c1b",
   "metadata": {
    "tags": []
   },
   "source": [
    "# Homework 1\n",
    "I'm Mathilde and welcome to my homework 1! Currently I'm a 3rd year math student at SU. I have close to zero experience with data science\n",
    "although I have taken a few courses where R has been used to visualise and analyse data. I look forward to learning more!"
   ]
  }
 ],
 "metadata": {
  "kernelspec": {
   "display_name": "Python 3 (ipykernel)",
   "language": "python",
   "name": "python3"
  },
  "language_info": {
   "codemirror_mode": {
    "name": "ipython",
    "version": 3
   },
   "file_extension": ".py",
   "mimetype": "text/x-python",
   "name": "python",
   "nbconvert_exporter": "python",
   "pygments_lexer": "ipython3",
   "version": "3.9.13"
  }
 },
 "nbformat": 4,
 "nbformat_minor": 5
}
