{
 "cells": [
  {
   "cell_type": "code",
   "execution_count": 1,
   "id": "20f1278f-ed52-4dc3-9b5e-2e421a783c6c",
   "metadata": {},
   "outputs": [],
   "source": [
    "import pandas as pd\n",
    "import numpy as np\n",
    "import matplotlib.pyplot as plt\n",
    "import sqlite3 as sql\n",
    "import re"
   ]
  },
  {
   "cell_type": "markdown",
   "id": "f92052a0-2563-4ea3-8bf7-c37f1d21459a",
   "metadata": {},
   "source": [
    "# Task 1 - joining data"
   ]
  },
  {
   "cell_type": "markdown",
   "id": "e7b47043-06ed-4a98-891d-1e464a95e087",
   "metadata": {},
   "source": [
    "We start by copying code from HW3. It creates a cleaned data frame with total number of cell phones per year and country"
   ]
  },
  {
   "cell_type": "code",
   "execution_count": 2,
   "id": "4d61d996-1c4d-4fb5-900a-9e43d82b72a2",
   "metadata": {},
   "outputs": [],
   "source": [
    "# From HW3\n",
    "# Function converting strings into numbers\n",
    "def convert_to_numeric(value):\n",
    "    if pd.isna(value):\n",
    "        return np.nan # not a number\n",
    "    if isinstance(value, str):\n",
    "        if value.endswith('k'):\n",
    "            return float(value[:-1]) * 1e3 # thousand\n",
    "        elif value.endswith('M'):\n",
    "            return float(value[:-1]) * 1e6 # million\n",
    "        elif value.endswith('B'):\n",
    "            return float(value[:-1]) * 1e9 # billion\n",
    "    return float(value)"
   ]
  },
  {
   "cell_type": "code",
   "execution_count": 3,
   "id": "cb47e29a-0231-4f9a-8a31-ad5b68366296",
   "metadata": {},
   "outputs": [],
   "source": [
    "# From HW3\n",
    "# load data\n",
    "cell_phones_total = pd.read_csv('cell_phones_total.csv')\n",
    "\n",
    "# clean data:\n",
    "# Convert all columns except for iso-3 using function defined in above cell\n",
    "for col in cell_phones_total.columns[1:]:\n",
    "    cell_phones_total.loc[:, col] = cell_phones_total[col].apply(convert_to_numeric)\n",
    "\n",
    "# For empty values, set it to 0 if all columns to the left has a value of 0 or is empty. Else set it to nan\n",
    "for i, col in enumerate(cell_phones_total.columns[1:], start=1):\n",
    "    left_columns = cell_phones_total.iloc[:, 1:i]\n",
    "    cell_phones_total.loc[cell_phones_total[col].isna() & (left_columns.fillna(0).sum(axis=1) == 0), col] = 0"
   ]
  },
  {
   "cell_type": "markdown",
   "id": "e9a5613c-fe7a-4bec-a034-b1a4b8084000",
   "metadata": {},
   "source": [
    "Load the population per country and year into a dataframe and merge it with the number of cell phones"
   ]
  },
  {
   "cell_type": "code",
   "execution_count": 4,
   "id": "78ab6a61-40f6-4dd4-a8fa-2128b24750b5",
   "metadata": {},
   "outputs": [],
   "source": [
    "pop_data = pd.read_csv('pop_data.csv')\n",
    "\n",
    "# melt the data\n",
    "cell_phones_long = cell_phones_total.melt(\n",
    "    id_vars=['iso-3'], var_name='year', value_name='cell_phones_total'\n",
    ")\n",
    "pop_data_long = pop_data.melt(\n",
    "    id_vars=['iso-3'], var_name='year', value_name='population'\n",
    ")\n",
    "\n",
    "# Store the year as numeric\n",
    "cell_phones_long['year'] = pd.to_numeric(cell_phones_long['year'], errors='coerce')\n",
    "pop_data_long['year'] = pd.to_numeric(pop_data_long['year'], errors='coerce')\n",
    "\n",
    "# Merge cell phones and population data\n",
    "merged_data = pd.merge(cell_phones_long, pop_data_long, how='inner', on=['iso-3', 'year'])"
   ]
  },
  {
   "cell_type": "markdown",
   "id": "0c6ff7c9-fa15-4615-9f4b-806630ededfe",
   "metadata": {},
   "source": [
    "Now we create the table as requested in the HW"
   ]
  },
  {
   "cell_type": "code",
   "execution_count": 5,
   "id": "e33abb4c-2989-4db4-a0a4-5edcf010fbaa",
   "metadata": {},
   "outputs": [
    {
     "name": "stdout",
     "output_type": "stream",
     "text": [
      "First five phones and population combined:\n",
      "  iso-3  year  cell_phones_total  population\n",
      "0   ABW  1960                0.0     54608.0\n",
      "1   AFG  1960                0.0   8622466.0\n",
      "2   AGO  1960                0.0   5357195.0\n",
      "3   ALB  1960                0.0   1608800.0\n",
      "4   AND  1960                0.0      9443.0\n"
     ]
    }
   ],
   "source": [
    "# Generate the requested table\n",
    "phone_population_table = merged_data.sort_values(\n",
    "    ['year', 'iso-3'], ascending=[True, True]\n",
    ").head(5)\n",
    "\n",
    "print(\"First five phones and population combined:\")\n",
    "print(phone_population_table)"
   ]
  },
  {
   "cell_type": "markdown",
   "id": "9cd627d3-f445-40d7-b707-eee4761125ef",
   "metadata": {},
   "source": [
    "Load all the country codes into a data frame and merge it with the other data"
   ]
  },
  {
   "cell_type": "code",
   "execution_count": 6,
   "id": "6b7642b4-d60d-4501-ae4e-61b9c22dd649",
   "metadata": {},
   "outputs": [],
   "source": [
    "country_data = pd.read_csv('country_data.csv')\n",
    "# the country code is called iso-3 in the other file, change it to the same\n",
    "country_data.rename(columns={'alpha-3': 'iso-3'}, inplace=True)\n",
    "\n",
    "# Merge the prior data frame with the country data frame\n",
    "merged_data_2 = pd.merge(merged_data, country_data, how='inner', on='iso-3')"
   ]
  },
  {
   "cell_type": "markdown",
   "id": "062df3d4-36f1-415b-a895-c809fddbd950",
   "metadata": {},
   "source": [
    "Calculate phones per capita and pivot the data so we have countries as columns and year as rows"
   ]
  },
  {
   "cell_type": "code",
   "execution_count": 7,
   "id": "2620af14-9a21-4f3e-81bf-94b8389aab17",
   "metadata": {},
   "outputs": [],
   "source": [
    "# Convert to numeric as we will do a calculation using this data\n",
    "merged_data_2['cell_phones_total'] = pd.to_numeric(merged_data_2['cell_phones_total'], errors='coerce')\n",
    "merged_data_2['population'] = pd.to_numeric(merged_data_2['population'], errors='coerce')\n",
    "\n",
    "# Calculate phones per capita and store it in the data frame\n",
    "merged_data_2['phones_per_capita'] = (\n",
    "    merged_data_2['cell_phones_total'] / merged_data_2['population']\n",
    ")\n",
    "\n",
    "# Pivot\n",
    "phones_per_capita = merged_data_2.pivot_table(\n",
    "    index='year', columns='name', values='phones_per_capita'\n",
    ").reset_index()"
   ]
  },
  {
   "cell_type": "markdown",
   "id": "8176bed8-6550-41c9-92b9-3b331ece7ab0",
   "metadata": {},
   "source": [
    "Find the countries with highest number of cell phones per capita in 2019.\n",
    "Note that the table looks slightly different from the HW assgnment. Macao doesn't have cell phone data for 2019 and I choose to not include it due to that. In the HW assignment, I guess the data for 2018 was used instead."
   ]
  },
  {
   "cell_type": "code",
   "execution_count": 8,
   "id": "35ae97fb-23b3-4ba8-9da9-8841b50ef236",
   "metadata": {},
   "outputs": [
    {
     "data": {
      "text/html": [
       "<div>\n",
       "<style scoped>\n",
       "    .dataframe tbody tr th:only-of-type {\n",
       "        vertical-align: middle;\n",
       "    }\n",
       "\n",
       "    .dataframe tbody tr th {\n",
       "        vertical-align: top;\n",
       "    }\n",
       "\n",
       "    .dataframe thead th {\n",
       "        text-align: right;\n",
       "    }\n",
       "</style>\n",
       "<table border=\"1\" class=\"dataframe\">\n",
       "  <thead>\n",
       "    <tr style=\"text-align: right;\">\n",
       "      <th></th>\n",
       "      <th>name</th>\n",
       "      <th>phones_per_capita</th>\n",
       "    </tr>\n",
       "  </thead>\n",
       "  <tbody>\n",
       "    <tr>\n",
       "      <th>4591</th>\n",
       "      <td>Hong Kong</td>\n",
       "      <td>2.863650</td>\n",
       "    </tr>\n",
       "    <tr>\n",
       "      <th>335</th>\n",
       "      <td>United Arab Emirates</td>\n",
       "      <td>2.127739</td>\n",
       "    </tr>\n",
       "    <tr>\n",
       "      <th>10247</th>\n",
       "      <td>Seychelles</td>\n",
       "      <td>1.987196</td>\n",
       "    </tr>\n",
       "    <tr>\n",
       "      <th>7223</th>\n",
       "      <td>Montenegro</td>\n",
       "      <td>1.848791</td>\n",
       "    </tr>\n",
       "    <tr>\n",
       "      <th>10527</th>\n",
       "      <td>Thailand</td>\n",
       "      <td>1.823083</td>\n",
       "    </tr>\n",
       "  </tbody>\n",
       "</table>\n",
       "</div>"
      ],
      "text/plain": [
       "                       name  phones_per_capita\n",
       "4591              Hong Kong           2.863650\n",
       "335    United Arab Emirates           2.127739\n",
       "10247            Seychelles           1.987196\n",
       "7223             Montenegro           1.848791\n",
       "10527              Thailand           1.823083"
      ]
     },
     "execution_count": 8,
     "metadata": {},
     "output_type": "execute_result"
    }
   ],
   "source": [
    "# Data for 2019\n",
    "data_2019 = merged_data_2[merged_data_2['year'] == 2019]\n",
    "\n",
    "# Filter out missing data\n",
    "data_2019_cleaned = data_2019.dropna(subset=['phones_per_capita'])\n",
    "\n",
    "# Get the top 5 countries with highest 'phones_per_capita' in 2019\n",
    "top_5_countries = data_2019_cleaned.nlargest(5, 'phones_per_capita')[['name', 'phones_per_capita']]\n",
    "\n",
    "top_5_countries\n"
   ]
  },
  {
   "cell_type": "markdown",
   "id": "1fc9b3ea-5403-411c-a046-2eda14b7883c",
   "metadata": {},
   "source": [
    "Generate the table requested in the HW assigment"
   ]
  },
  {
   "cell_type": "code",
   "execution_count": 9,
   "id": "7b429900-14a1-4b8c-83be-dc248c24045c",
   "metadata": {},
   "outputs": [
    {
     "data": {
      "text/html": [
       "<div>\n",
       "<style scoped>\n",
       "    .dataframe tbody tr th:only-of-type {\n",
       "        vertical-align: middle;\n",
       "    }\n",
       "\n",
       "    .dataframe tbody tr th {\n",
       "        vertical-align: top;\n",
       "    }\n",
       "\n",
       "    .dataframe thead th {\n",
       "        text-align: right;\n",
       "    }\n",
       "</style>\n",
       "<table border=\"1\" class=\"dataframe\">\n",
       "  <thead>\n",
       "    <tr style=\"text-align: right;\">\n",
       "      <th>name</th>\n",
       "      <th>year</th>\n",
       "      <th>Hong Kong</th>\n",
       "      <th>Montenegro</th>\n",
       "      <th>Seychelles</th>\n",
       "      <th>Thailand</th>\n",
       "      <th>United Arab Emirates</th>\n",
       "    </tr>\n",
       "  </thead>\n",
       "  <tbody>\n",
       "    <tr>\n",
       "      <th>0</th>\n",
       "      <td>2015</td>\n",
       "      <td>2.290401</td>\n",
       "      <td>1.623379</td>\n",
       "      <td>1.584260</td>\n",
       "      <td>1.465266</td>\n",
       "      <td>2.007424</td>\n",
       "    </tr>\n",
       "    <tr>\n",
       "      <th>1</th>\n",
       "      <td>2016</td>\n",
       "      <td>2.398931</td>\n",
       "      <td>1.671212</td>\n",
       "      <td>1.605459</td>\n",
       "      <td>1.699547</td>\n",
       "      <td>2.212521</td>\n",
       "    </tr>\n",
       "    <tr>\n",
       "      <th>2</th>\n",
       "      <td>2017</td>\n",
       "      <td>2.488773</td>\n",
       "      <td>1.671024</td>\n",
       "      <td>1.742433</td>\n",
       "      <td>1.720777</td>\n",
       "      <td>2.183431</td>\n",
       "    </tr>\n",
       "    <tr>\n",
       "      <th>3</th>\n",
       "      <td>2018</td>\n",
       "      <td>2.670209</td>\n",
       "      <td>1.816057</td>\n",
       "      <td>1.849900</td>\n",
       "      <td>1.757400</td>\n",
       "      <td>2.199084</td>\n",
       "    </tr>\n",
       "    <tr>\n",
       "      <th>4</th>\n",
       "      <td>2019</td>\n",
       "      <td>2.863650</td>\n",
       "      <td>1.848791</td>\n",
       "      <td>1.987196</td>\n",
       "      <td>1.823083</td>\n",
       "      <td>2.127739</td>\n",
       "    </tr>\n",
       "  </tbody>\n",
       "</table>\n",
       "</div>"
      ],
      "text/plain": [
       "name  year  Hong Kong  Montenegro  Seychelles  Thailand  United Arab Emirates\n",
       "0     2015   2.290401    1.623379    1.584260  1.465266              2.007424\n",
       "1     2016   2.398931    1.671212    1.605459  1.699547              2.212521\n",
       "2     2017   2.488773    1.671024    1.742433  1.720777              2.183431\n",
       "3     2018   2.670209    1.816057    1.849900  1.757400              2.199084\n",
       "4     2019   2.863650    1.848791    1.987196  1.823083              2.127739"
      ]
     },
     "execution_count": 9,
     "metadata": {},
     "output_type": "execute_result"
    }
   ],
   "source": [
    "# Filter on requested years\n",
    "data_2015_2019 = merged_data_2[merged_data_2['year'].between(2015, 2019)]\n",
    "\n",
    "# Keep only the top 5 counties\n",
    "data_top_5_countries = data_2015_2019[data_2015_2019['name'].isin(top_5_countries['name'])]\n",
    "\n",
    "# Pivot\n",
    "phones_per_capita_top_5 = data_top_5_countries.pivot_table(\n",
    "    index='year', columns='name', values='phones_per_capita'\n",
    ").reset_index()\n",
    "\n",
    "phones_per_capita_top_5\n"
   ]
  },
  {
   "cell_type": "markdown",
   "id": "239ee951-6f5b-44eb-83fb-6f5865171607",
   "metadata": {},
   "source": [
    "Create a plot that illustrates the growth rate of the countries in the table above over the last 10 years"
   ]
  },
  {
   "cell_type": "code",
   "execution_count": 10,
   "id": "4e91b786-90b7-470a-b1bb-fd2c855ffe28",
   "metadata": {},
   "outputs": [
    {
     "data": {
      "image/png": "[encoded data removed]",
      "text/plain": [
       "<Figure size 1200x600 with 1 Axes>"
      ]
     },
     "metadata": {},
     "output_type": "display_data"
    }
   ],
   "source": [
    "# 10 years of data\n",
    "data_2010_2019 = merged_data_2[merged_data_2['year'].between(2010, 2019)]\n",
    "data_top_5_countries_10_years = data_2010_2019[data_2010_2019['name'].isin(top_5_countries['name'])]\n",
    "\n",
    "# pivot\n",
    "data_top_5_countries_10_years_pivot = data_top_5_countries_10_years.pivot_table(\n",
    "    index='year', columns='name', values='phones_per_capita'\n",
    ")\n",
    "\n",
    "# Plot it\n",
    "plt.figure(figsize=(12, 6))\n",
    "for country in data_top_5_countries_10_years_pivot.columns:\n",
    "    plt.plot(\n",
    "        data_top_5_countries_10_years_pivot.index,\n",
    "        data_top_5_countries_10_years_pivot[country],\n",
    "        label=country,\n",
    "        marker='o'\n",
    "    )\n",
    "\n",
    "plt.title(\"Phones Per Capita (for Top 5 Countries in 2019)\")\n",
    "plt.xlabel(\"Year\")\n",
    "plt.ylabel(\"Phones Per Capita\")\n",
    "plt.legend(title=\"Countries\")\n",
    "plt.grid(True)\n",
    "plt.show()\n"
   ]
  },
  {
   "cell_type": "markdown",
   "id": "51ef942f-e3a0-4308-9030-f3de77563a3b",
   "metadata": {},
   "source": [
    "In the graph we see that Hong Kong is the undisputed number 1 country and has kept the number one position during the entire timespan. Phones Per Capita is also growing fast there.\n",
    "\n",
    "For 2019 the number 2 country is UAE and it has been growing fast, especially during the first half of the time period. From 2019 and onwards the growth has been stagnant.\n",
    "\n",
    "Thailand is the only country(out of these five) where the growth rate always has been positive in the time range.\n"
   ]
  },
  {
   "cell_type": "markdown",
   "id": "2a5e29d0-0e42-4736-8122-3d18d2b4764f",
   "metadata": {},
   "source": [
    "# Task 2 - sql"
   ]
  },
  {
   "cell_type": "markdown",
   "id": "31a3c209-6618-49fb-b6f2-72ea8546d530",
   "metadata": {},
   "source": [
    "Connect to the db and analyse the database"
   ]
  },
  {
   "cell_type": "code",
   "execution_count": 11,
   "id": "4e8e59bd-270e-4ab9-a2b8-1d5212154743",
   "metadata": {},
   "outputs": [
    {
     "data": {
      "text/plain": [
       "[('user_actions',)]"
      ]
     },
     "execution_count": 11,
     "metadata": {},
     "output_type": "execute_result"
    }
   ],
   "source": [
    "conn = sql.connect(\"user_actions.db\")\n",
    "cursor = conn.cursor()\n",
    "\n",
    "# check what tables we have\n",
    "list(cursor.execute(\"SELECT name FROM sqlite_master WHERE type='table';\"))"
   ]
  },
  {
   "cell_type": "code",
   "execution_count": 12,
   "id": "176fad77-c64d-494e-8725-61553745d6bd",
   "metadata": {},
   "outputs": [
    {
     "data": {
      "text/plain": [
       "[(0, 'user_id', 'INTEGER', 0, None, 0),\n",
       " (1, 'username', 'TEXT', 0, None, 0),\n",
       " (2, 'email', 'TEXT', 0, None, 0),\n",
       " (3, 'action', 'TEXT', 0, None, 0),\n",
       " (4, 'timestamp', 'TEXT', 0, None, 0)]"
      ]
     },
     "execution_count": 12,
     "metadata": {},
     "output_type": "execute_result"
    }
   ],
   "source": [
    "# check columns for the table user_actions\n",
    "list(cursor.execute(\"SELECT * FROM PRAGMA_TABLE_INFO('user_actions');\"))"
   ]
  },
  {
   "cell_type": "code",
   "execution_count": 13,
   "id": "a3d66b65-e819-4016-8692-b84e5364b84d",
   "metadata": {},
   "outputs": [
    {
     "data": {
      "text/plain": [
       "[(8040,)]"
      ]
     },
     "execution_count": 13,
     "metadata": {},
     "output_type": "execute_result"
    }
   ],
   "source": [
    "# how many rows do we have in the table user_actions?\n",
    "list(cursor.execute(\"SELECT count(*) FROM user_actions;\"))"
   ]
  },
  {
   "cell_type": "markdown",
   "id": "1525f90c-f2d4-418a-80dd-1f2fa8adf6f9",
   "metadata": {},
   "source": [
    "Now that we undertand the schema and how much data we have, we can answer the questions."
   ]
  },
  {
   "cell_type": "markdown",
   "id": "8f430450-2083-4fb0-9952-b8d61a0c83cc",
   "metadata": {},
   "source": [
    "Retrieve the usernames of all users who have performed the \"signup\" action\n"
   ]
  },
  {
   "cell_type": "code",
   "execution_count": 14,
   "id": "f60a1f24-6e54-46c9-bcad-f955bd58a31c",
   "metadata": {},
   "outputs": [
    {
     "data": {
      "text/plain": [
       "[('user1',),\n",
       " ('user10',),\n",
       " ('user11',),\n",
       " ('user12',),\n",
       " ('user13',),\n",
       " ('user14',),\n",
       " ('user15',),\n",
       " ('user16',),\n",
       " ('user17',),\n",
       " ('user18',),\n",
       " ('user19',),\n",
       " ('user2',),\n",
       " ('user20',),\n",
       " ('user21',),\n",
       " ('user22',),\n",
       " ('user23',),\n",
       " ('user24',),\n",
       " ('user25',),\n",
       " ('user26',),\n",
       " ('user27',),\n",
       " ('user28',),\n",
       " ('user29',),\n",
       " ('user3',),\n",
       " ('user30',),\n",
       " ('user31',),\n",
       " ('user32',),\n",
       " ('user33',),\n",
       " ('user34',),\n",
       " ('user35',),\n",
       " ('user4',),\n",
       " ('user5',),\n",
       " ('user6',),\n",
       " ('user7',),\n",
       " ('user8',),\n",
       " ('user9',)]"
      ]
     },
     "execution_count": 14,
     "metadata": {},
     "output_type": "execute_result"
    }
   ],
   "source": [
    "query = \"\"\"\n",
    "SELECT\n",
    "    username \n",
    "FROM\n",
    "    user_actions\n",
    "WHERE\n",
    "    action='signup'\n",
    "ORDER BY\n",
    "    username;\n",
    "\"\"\"\n",
    "\n",
    "list(cursor.execute(query))"
   ]
  },
  {
   "cell_type": "markdown",
   "id": "69d6fa2f-2e26-47e2-b48a-373f66e34951",
   "metadata": {},
   "source": [
    "Find the total number of log entries for each user. Display the user_id, username, and the count of log entries.\n"
   ]
  },
  {
   "cell_type": "code",
   "execution_count": 15,
   "id": "731c9950-6285-4dd2-afcc-3049a0186124",
   "metadata": {},
   "outputs": [
    {
     "data": {
      "text/plain": [
       "[(1, 'user1', 104),\n",
       " (2, 'user2', 149),\n",
       " (3, 'user3', 108),\n",
       " (4, 'user4', 436),\n",
       " (5, 'user5', 192),\n",
       " (6, 'user6', 457),\n",
       " (7, 'user7', 362),\n",
       " (8, 'user8', 329),\n",
       " (9, 'user9', 118),\n",
       " (10, 'user10', 170),\n",
       " (11, 'user11', 328),\n",
       " (12, 'user12', 209),\n",
       " (13, 'user13', 470),\n",
       " (14, 'user14', 320),\n",
       " (15, 'user15', 35),\n",
       " (16, 'user16', 379),\n",
       " (17, 'user17', 367),\n",
       " (18, 'user18', 122),\n",
       " (19, 'user19', 58),\n",
       " (20, 'user20', 362),\n",
       " (21, 'user21', 323),\n",
       " (22, 'user22', 275),\n",
       " (23, 'user23', 309),\n",
       " (24, 'user24', 162),\n",
       " (25, 'user25', 136),\n",
       " (26, 'user26', 217),\n",
       " (27, 'user27', 211),\n",
       " (28, 'user28', 91),\n",
       " (29, 'user29', 49),\n",
       " (30, 'user30', 165),\n",
       " (31, 'user31', 389),\n",
       " (32, 'user32', 32),\n",
       " (33, 'user33', 32),\n",
       " (34, 'user34', 180),\n",
       " (35, 'user35', 394)]"
      ]
     },
     "execution_count": 15,
     "metadata": {},
     "output_type": "execute_result"
    }
   ],
   "source": [
    "query = \"\"\"\n",
    "SELECT\n",
    "    user_id,\n",
    "    username,\n",
    "    COUNT(*) \n",
    "FROM\n",
    "    user_actions\n",
    "GROUP BY\n",
    "    user_id\n",
    "ORDER BY\n",
    "    user_id;\n",
    "\"\"\"\n",
    "\n",
    "list(cursor.execute(query))"
   ]
  },
  {
   "cell_type": "markdown",
   "id": "c103fe2b-56da-4cc4-b79e-ac4263a84c82",
   "metadata": {},
   "source": [
    "Identify users who have both logged in (action = 'login') and signed up (action = 'signup') on the same day.\n",
    "Display the user_id and username."
   ]
  },
  {
   "cell_type": "code",
   "execution_count": 16,
   "id": "e8c51a55-10e0-404d-96e3-55e01142c3bb",
   "metadata": {},
   "outputs": [
    {
     "data": {
      "text/plain": [
       "[(2, 'user2'),\n",
       " (5, 'user5'),\n",
       " (5, 'user5'),\n",
       " (7, 'user7'),\n",
       " (8, 'user8'),\n",
       " (12, 'user12'),\n",
       " (22, 'user22'),\n",
       " (22, 'user22'),\n",
       " (30, 'user30'),\n",
       " (32, 'user32')]"
      ]
     },
     "execution_count": 16,
     "metadata": {},
     "output_type": "execute_result"
    }
   ],
   "source": [
    "\n",
    "\n",
    "query = \"\"\"\n",
    "SELECT\n",
    "    ua1.user_id,\n",
    "    ua1.username\n",
    "FROM\n",
    "    user_actions ua1\n",
    "JOIN\n",
    "    user_actions ua2 ON\n",
    "        ua1.user_id = ua2.user_id AND \n",
    "        DATE(ua1.timestamp) = DATE(ua2.timestamp) AND \n",
    "        ua1.action = 'login' AND\n",
    "        ua2.action = 'signup'\n",
    "ORDER BY\n",
    "    ua1.user_id\n",
    "\"\"\"\n",
    "\n",
    "list(cursor.execute(query))"
   ]
  },
  {
   "cell_type": "markdown",
   "id": "22714ac8-0f6d-4344-864d-1ce5de88aa4a",
   "metadata": {},
   "source": [
    "# Task 3 - regexp"
   ]
  },
  {
   "cell_type": "markdown",
   "id": "1b4ca248-997d-4fe0-8494-049b744cd822",
   "metadata": {},
   "source": [
    "- Open the file and create a list with all lines\n",
    "- extract all hashtags from a given comment\n",
    "- find comments that mention both \"#programming\" and \"#python\"\n",
    "- Bonus task: extract unique hashtags from the entire file"
   ]
  },
  {
   "cell_type": "code",
   "execution_count": 17,
   "id": "c8be57db-937a-424a-8e8f-36578a63a5dd",
   "metadata": {},
   "outputs": [
    {
     "name": "stdout",
     "output_type": "stream",
     "text": [
      "Tags in comment 1: #programming, #tips\n",
      "\n",
      "Does comment 2 contain both #programming and #python?\n",
      "False\n",
      "\n",
      "Unique hashtags:\n",
      "{'#coding', '#tips', '#analytics', '#research', '#programming', '#analysis', '#insights', '#tech', '#data', '#python', '#innovation'}\n"
     ]
    }
   ],
   "source": [
    "with open(\"comments.txt\", 'r') as file:\n",
    "    comments = file.readlines()\n",
    "\n",
    "# extract all hashtags from a given comment\n",
    "regexp_all_hashtags=r\"#\\w+\"\n",
    "\n",
    "tags_in_comment_1 = re.findall(regexp_all_hashtags, comments[0])\n",
    "print(\"Tags in comment 1: \" + ', '.join(tags_in_comment_1))\n",
    "\n",
    "#  find comments that mention both \"#programming\" and \"#python\"\n",
    "regexp_programming_and_python = r\"(?=.*#programming)(?=.*#python)\"\n",
    "\n",
    "matching_comment_2 = bool(re.search(regexp_programming_and_python, comments[1]))\n",
    "print(\"\\nDoes comment 2 contain both #programming and #python?\\n\" + str(matching_comment_2))\n",
    "\n",
    "# Bonus task:\n",
    "# Extract unique hashtags from the entire file by:\n",
    "# - using the regexp from above\n",
    "# - add all hashtags to a set so duplicates are removed\n",
    "# - joining the list of comments to a single string \n",
    "unique_hashtags = set(re.findall(regexp_all_hashtags, ''.join(comments)))\n",
    "print(\"\\nUnique hashtags:\")\n",
    "print(unique_hashtags)\n"
   ]
  }
 ],
 "metadata": {
  "kernelspec": {
   "display_name": "Python 3 (ipykernel)",
   "language": "python",
   "name": "python3"
  },
  "language_info": {
   "codemirror_mode": {
    "name": "ipython",
    "version": 3
   },
   "file_extension": ".py",
   "mimetype": "text/x-python",
   "name": "python",
   "nbconvert_exporter": "python",
   "pygments_lexer": "ipython3",
   "version": "3.9.13"
  }
 },
 "nbformat": 4,
 "nbformat_minor": 5
}
