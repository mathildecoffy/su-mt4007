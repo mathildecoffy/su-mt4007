{
 "cells": [
  {
   "cell_type": "code",
   "execution_count": 1,
   "id": "20f1278f-ed52-4dc3-9b5e-2e421a783c6c",
   "metadata": {},
   "outputs": [],
   "source": [
    "import pandas as pd\n",
    "#import seaborn as sns\n",
    "#import matplotlib.pyplot as plt\n",
    "#import numpy as np\n",
    "import sqlite3 as sql\n",
    "import re"
   ]
  },
  {
   "cell_type": "markdown",
   "id": "f92052a0-2563-4ea3-8bf7-c37f1d21459a",
   "metadata": {},
   "source": [
    "# Task 1"
   ]
  },
  {
   "cell_type": "code",
   "execution_count": null,
   "id": "4d61d996-1c4d-4fb5-900a-9e43d82b72a2",
   "metadata": {},
   "outputs": [],
   "source": [
    "# TODO"
   ]
  },
  {
   "cell_type": "markdown",
   "id": "2a5e29d0-0e42-4736-8122-3d18d2b4764f",
   "metadata": {},
   "source": [
    "# Task 2"
   ]
  },
  {
   "cell_type": "code",
   "execution_count": 2,
   "id": "4e8e59bd-270e-4ab9-a2b8-1d5212154743",
   "metadata": {},
   "outputs": [
    {
     "data": {
      "text/plain": [
       "[('user_actions',)]"
      ]
     },
     "execution_count": 2,
     "metadata": {},
     "output_type": "execute_result"
    }
   ],
   "source": [
    "conn = sql.connect(\"user_actions.db\")\n",
    "cursor = conn.cursor()\n",
    "\n",
    "# check what tables we have\n",
    "list(cursor.execute(\"SELECT name FROM sqlite_master WHERE type='table';\"))"
   ]
  },
  {
   "cell_type": "code",
   "execution_count": 3,
   "id": "176fad77-c64d-494e-8725-61553745d6bd",
   "metadata": {},
   "outputs": [
    {
     "data": {
      "text/plain": [
       "[(0, 'user_id', 'INTEGER', 0, None, 0),\n",
       " (1, 'username', 'TEXT', 0, None, 0),\n",
       " (2, 'email', 'TEXT', 0, None, 0),\n",
       " (3, 'action', 'TEXT', 0, None, 0),\n",
       " (4, 'timestamp', 'TEXT', 0, None, 0)]"
      ]
     },
     "execution_count": 3,
     "metadata": {},
     "output_type": "execute_result"
    }
   ],
   "source": [
    "# check columns for the table user_actions\n",
    "list(cursor.execute(\"SELECT * FROM PRAGMA_TABLE_INFO('user_actions');\"))"
   ]
  },
  {
   "cell_type": "code",
   "execution_count": 4,
   "id": "a3d66b65-e819-4016-8692-b84e5364b84d",
   "metadata": {},
   "outputs": [
    {
     "data": {
      "text/plain": [
       "[(8040,)]"
      ]
     },
     "execution_count": 4,
     "metadata": {},
     "output_type": "execute_result"
    }
   ],
   "source": [
    "# how many rows do we have in the table user_actions?\n",
    "list(cursor.execute(\"SELECT count(*) FROM user_actions;\"))"
   ]
  },
  {
   "cell_type": "code",
   "execution_count": 5,
   "id": "f60a1f24-6e54-46c9-bcad-f955bd58a31c",
   "metadata": {},
   "outputs": [
    {
     "data": {
      "text/plain": [
       "[('user1',),\n",
       " ('user10',),\n",
       " ('user11',),\n",
       " ('user12',),\n",
       " ('user13',),\n",
       " ('user14',),\n",
       " ('user15',),\n",
       " ('user16',),\n",
       " ('user17',),\n",
       " ('user18',),\n",
       " ('user19',),\n",
       " ('user2',),\n",
       " ('user20',),\n",
       " ('user21',),\n",
       " ('user22',),\n",
       " ('user23',),\n",
       " ('user24',),\n",
       " ('user25',),\n",
       " ('user26',),\n",
       " ('user27',),\n",
       " ('user28',),\n",
       " ('user29',),\n",
       " ('user3',),\n",
       " ('user30',),\n",
       " ('user31',),\n",
       " ('user32',),\n",
       " ('user33',),\n",
       " ('user34',),\n",
       " ('user35',),\n",
       " ('user4',),\n",
       " ('user5',),\n",
       " ('user6',),\n",
       " ('user7',),\n",
       " ('user8',),\n",
       " ('user9',)]"
      ]
     },
     "execution_count": 5,
     "metadata": {},
     "output_type": "execute_result"
    }
   ],
   "source": [
    "# Retrieve the usernames of all users who have performed the \"signup\" action\n",
    "query = \"\"\"\n",
    "SELECT\n",
    "    username \n",
    "FROM\n",
    "    user_actions\n",
    "WHERE\n",
    "    action='signup'\n",
    "ORDER BY\n",
    "    username;\n",
    "\"\"\"\n",
    "\n",
    "list(cursor.execute(query))"
   ]
  },
  {
   "cell_type": "code",
   "execution_count": 6,
   "id": "731c9950-6285-4dd2-afcc-3049a0186124",
   "metadata": {},
   "outputs": [
    {
     "data": {
      "text/plain": [
       "[(1, 'user1', 104),\n",
       " (2, 'user2', 149),\n",
       " (3, 'user3', 108),\n",
       " (4, 'user4', 436),\n",
       " (5, 'user5', 192),\n",
       " (6, 'user6', 457),\n",
       " (7, 'user7', 362),\n",
       " (8, 'user8', 329),\n",
       " (9, 'user9', 118),\n",
       " (10, 'user10', 170),\n",
       " (11, 'user11', 328),\n",
       " (12, 'user12', 209),\n",
       " (13, 'user13', 470),\n",
       " (14, 'user14', 320),\n",
       " (15, 'user15', 35),\n",
       " (16, 'user16', 379),\n",
       " (17, 'user17', 367),\n",
       " (18, 'user18', 122),\n",
       " (19, 'user19', 58),\n",
       " (20, 'user20', 362),\n",
       " (21, 'user21', 323),\n",
       " (22, 'user22', 275),\n",
       " (23, 'user23', 309),\n",
       " (24, 'user24', 162),\n",
       " (25, 'user25', 136),\n",
       " (26, 'user26', 217),\n",
       " (27, 'user27', 211),\n",
       " (28, 'user28', 91),\n",
       " (29, 'user29', 49),\n",
       " (30, 'user30', 165),\n",
       " (31, 'user31', 389),\n",
       " (32, 'user32', 32),\n",
       " (33, 'user33', 32),\n",
       " (34, 'user34', 180),\n",
       " (35, 'user35', 394)]"
      ]
     },
     "execution_count": 6,
     "metadata": {},
     "output_type": "execute_result"
    }
   ],
   "source": [
    "# Find the total number of log entries for each user. Display the user_id, username, and the count of log entries.\n",
    "query = \"\"\"\n",
    "SELECT\n",
    "    user_id,\n",
    "    username,\n",
    "    COUNT(*) \n",
    "FROM\n",
    "    user_actions\n",
    "GROUP BY\n",
    "    user_id\n",
    "ORDER BY\n",
    "    user_id;\n",
    "\"\"\"\n",
    "\n",
    "list(cursor.execute(query))"
   ]
  },
  {
   "cell_type": "code",
   "execution_count": 7,
   "id": "e8c51a55-10e0-404d-96e3-55e01142c3bb",
   "metadata": {},
   "outputs": [
    {
     "data": {
      "text/plain": [
       "[(2, 'user2'),\n",
       " (5, 'user5'),\n",
       " (5, 'user5'),\n",
       " (7, 'user7'),\n",
       " (8, 'user8'),\n",
       " (12, 'user12'),\n",
       " (22, 'user22'),\n",
       " (22, 'user22'),\n",
       " (30, 'user30'),\n",
       " (32, 'user32')]"
      ]
     },
     "execution_count": 7,
     "metadata": {},
     "output_type": "execute_result"
    }
   ],
   "source": [
    "# Identify users who have both logged in (action = 'login') and signed up (action = 'signup') on the same day.\n",
    "# Display the user_id and username.\n",
    "\n",
    "query = \"\"\"\n",
    "SELECT\n",
    "    ua1.user_id,\n",
    "    ua1.username\n",
    "FROM\n",
    "    user_actions ua1\n",
    "JOIN\n",
    "    user_actions ua2 ON\n",
    "    ua1.user_id = ua2.user_id AND \n",
    "    DATE(ua1.timestamp) = DATE(ua2.timestamp) AND \n",
    "    ua1.action = 'login' AND\n",
    "    ua2.action = 'signup'\n",
    "ORDER BY\n",
    "    ua1.user_id\n",
    "\"\"\"\n",
    "\n",
    "list(cursor.execute(query))"
   ]
  },
  {
   "cell_type": "markdown",
   "id": "22714ac8-0f6d-4344-864d-1ce5de88aa4a",
   "metadata": {},
   "source": [
    "# Task 3"
   ]
  },
  {
   "cell_type": "code",
   "execution_count": 8,
   "id": "c8be57db-937a-424a-8e8f-36578a63a5dd",
   "metadata": {},
   "outputs": [
    {
     "name": "stdout",
     "output_type": "stream",
     "text": [
      "Tags in comment 1: #programming, #tips\n",
      "\n",
      "Does comment 2 contain both #programming and #python?\n",
      "False\n",
      "\n",
      "Unique hashtags:\n",
      "{'#tips', '#python', '#insights', '#tech', '#analysis', '#research', '#data', '#programming', '#coding', '#analytics', '#innovation'}\n"
     ]
    }
   ],
   "source": [
    "with open(\"comments.txt\", 'r') as file:\n",
    "    comments = file.readlines()\n",
    "\n",
    "# extract all hashtags from a given comment\n",
    "regexp_all_hashtags=r\"#\\w+\"\n",
    "\n",
    "tags_in_comment_1 = re.findall(regexp_all_hashtags, comments[0])\n",
    "print(\"Tags in comment 1: \" + ', '.join(tags_in_comment_1))\n",
    "\n",
    "#  find comments that mention both \"#programming\" and \"#python\"\n",
    "regexp_programming_and_python = r\"(?=.*#programming)(?=.*#python)\"\n",
    "\n",
    "matching_comment_2 = bool(re.search(regexp_programming_and_python, comments[1]))\n",
    "print(\"\\nDoes comment 2 contain both #programming and #python?\\n\" + str(matching_comment_2))\n",
    "\n",
    "# Bonus task:\n",
    "# Extract unique hashtags from the entire file by:\n",
    "# - using the regexp from above\n",
    "# - add all hashtags to a set so duplicates are removed\n",
    "# - joining the list of comments to a single string \n",
    "unique_hashtags = set(re.findall(regexp_all_hashtags, ''.join(comments)))\n",
    "print(\"\\nUnique hashtags:\")\n",
    "print(unique_hashtags)\n"
   ]
  }
 ],
 "metadata": {
  "kernelspec": {
   "display_name": "Python 3 (ipykernel)",
   "language": "python",
   "name": "python3"
  },
  "language_info": {
   "codemirror_mode": {
    "name": "ipython",
    "version": 3
   },
   "file_extension": ".py",
   "mimetype": "text/x-python",
   "name": "python",
   "nbconvert_exporter": "python",
   "pygments_lexer": "ipython3",
   "version": "3.9.13"
  }
 },
 "nbformat": 4,
 "nbformat_minor": 5
}
