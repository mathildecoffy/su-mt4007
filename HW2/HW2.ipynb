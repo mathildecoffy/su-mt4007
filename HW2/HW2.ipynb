{
 "cells": [
  {
   "cell_type": "markdown",
   "id": "8897ec7d-e678-4b21-bcd6-761881cf9f19",
   "metadata": {},
   "source": [
    "# Introduction\n",
    "\n",
    "In this homework we work on three different tasks: housing price in Ekhagen, Swedish election of 2018, and predicting strokes."
   ]
  },
  {
   "cell_type": "markdown",
   "id": "8c030405-ba1f-488f-9540-c541468acb1a",
   "metadata": {
    "tags": []
   },
   "source": [
    "## Apartment prices\n",
    "\n",
    "In this part we analyse the apartment prices in Ekhagen. We:\n",
    "  - open the .csv file and load it into a pandas data frame \n",
    "  - find the price per square meter (ppsqm)\n",
    "  - find the 5 most expensive properties by square meter by sorting the dataframe by ppsqm and display it in a table\n",
    "  - find the average ppsqm and print it.\n",
    "    \n",
    "An interesting feature of the data is that the top 3 most expensive apartments are all located on the same street: Ekhagsvägen. We notice that the ppsqm for these three apartments is similar."
   ]
  },
  {
   "cell_type": "code",
   "execution_count": 33,
   "id": "9e00f914-442b-4484-9f9e-fdfe230e7c8c",
   "metadata": {},
   "outputs": [],
   "source": [
    "import pandas as pd\n",
    "import matplotlib.pyplot as plt # used in part 3\n",
    "import seaborn as sns # used in part 3"
   ]
  },
  {
   "cell_type": "code",
   "execution_count": 34,
   "id": "a006156d-a5e0-40d0-8480-d7f66e63ff36",
   "metadata": {},
   "outputs": [],
   "source": [
    "df = pd.read_csv('Booli_sold.csv')"
   ]
  },
  {
   "cell_type": "code",
   "execution_count": 35,
   "id": "1dd10fc2-309e-47f2-bd66-fe5fb0f3e3ee",
   "metadata": {},
   "outputs": [
    {
     "name": "stdout",
     "output_type": "stream",
     "text": [
      "Table with top 5 most expensive appartments w.r.t ppsqm\n",
      "            ppsqm  soldPrice  livingArea location.address.streetAddress\n",
      "67  104166.666667    2500000        24.0                  Ekhagsvägen 8\n",
      "50  102083.333333    2450000        24.0                  Ekhagsvägen 8\n",
      "54  100000.000000    2300000        23.0                 Ekhagsvägen 10\n",
      "34   88400.000000    2210000        25.0                Torphagsvägen 4\n",
      "55   85501.858736    2300000        26.9                Docentbacken 1B\n"
     ]
    }
   ],
   "source": [
    "df['ppsqm'] = df['soldPrice'] / df['livingArea']\n",
    "df_sorted = df.sort_values(by='ppsqm', ascending=False)\n",
    "print(\"Table with top 5 most expensive appartments w.r.t ppsqm\")\n",
    "print(df_sorted[['ppsqm', 'soldPrice', 'livingArea', 'location.address.streetAddress']].head(5))"
   ]
  },
  {
   "cell_type": "code",
   "execution_count": 36,
   "id": "ae9b93c4-126d-4e49-8538-7e52b5b69d2c",
   "metadata": {},
   "outputs": [
    {
     "name": "stdout",
     "output_type": "stream",
     "text": [
      "The average price per square meter (ppsqm) is: 58759.38\n"
     ]
    }
   ],
   "source": [
    "average_ppsqm = df['ppsqm'].mean()\n",
    "print(f\"The average price per square meter (ppsqm) is: {average_ppsqm:.2f}\")"
   ]
  },
  {
   "cell_type": "markdown",
   "id": "9f945f74-646e-4195-842b-21268c249163",
   "metadata": {},
   "source": [
    "## The Swedish Election of 2018\n",
    "\n",
    "In this part we analyse the result of the Swedish election of 2018. We:\n",
    "  - open the .csv file (with ; as separator and , as decimal sign) and load it into a pandas data frame\n",
    "  - calculate the total number of legitimate votes in Stockholms län\n",
    "  - find the municipality where the social democratic party garnered the hightest voting percentage\n",
    "  - Rank the 3 municipalities with highest participation and display it as a table"
   ]
  },
  {
   "cell_type": "code",
   "execution_count": 37,
   "id": "bfcd55fc-8372-47bb-b831-6b7229d32033",
   "metadata": {},
   "outputs": [],
   "source": [
    "df2 = pd.read_csv('2018_R_per_kommun.csv', sep=';', decimal=',')"
   ]
  },
  {
   "cell_type": "code",
   "execution_count": 38,
   "id": "011af204-6765-4199-83f6-6a9c3c172bfe",
   "metadata": {},
   "outputs": [
    {
     "name": "stdout",
     "output_type": "stream",
     "text": [
      "The total number of valid votes in Stockholms län is: 1426237\n"
     ]
    }
   ],
   "source": [
    "filtered_df2 = df2[df2['LÄNSNAMN'] == 'Stockholms län']\n",
    "total_votes = filtered_df2['RÖSTER GILTIGA'].sum()\n",
    "print(f\"The total number of valid votes in Stockholms län is: {total_votes}\")\n"
   ]
  },
  {
   "cell_type": "code",
   "execution_count": 39,
   "id": "98125feb-78d8-49e2-ba07-b36db54bd903",
   "metadata": {},
   "outputs": [
    {
     "name": "stdout",
     "output_type": "stream",
     "text": [
      "The municipality which  garnered the hightest voting percentage is:\n",
      "    KOMMUNNAMN      S\n",
      "188   Munkfors  52.18\n"
     ]
    }
   ],
   "source": [
    "df2_sorted_S = df2.sort_values(by='S', ascending=False)\n",
    "print(\"The municipality which  garnered the hightest voting percentage is:\")\n",
    "print(df2_sorted_S[['KOMMUNNAMN', 'S']].head(1))"
   ]
  },
  {
   "cell_type": "code",
   "execution_count": 40,
   "id": "45d13ae5-6f3c-4578-b996-62b9b6f8edd6",
   "metadata": {},
   "outputs": [
    {
     "name": "stdout",
     "output_type": "stream",
     "text": [
      "Table of the top 3 municipalities with highest voting percentage\n",
      "    KOMMUNNAMN  VALDELTAGANDE\n",
      "103      Lomma          93.86\n",
      "59        Habo          93.35\n",
      "98    Vellinge          93.13\n"
     ]
    }
   ],
   "source": [
    "df2_sorted_VALDELTAGANDE = df2.sort_values(by='VALDELTAGANDE', ascending=False)\n",
    "print(\"Table of the top 3 municipalities with highest voting percentage\")\n",
    "print(df2_sorted_VALDELTAGANDE[['KOMMUNNAMN', 'VALDELTAGANDE']].head(3))"
   ]
  },
  {
   "cell_type": "markdown",
   "id": "035e7393-f932-44c3-81f8-b57912db617a",
   "metadata": {},
   "source": [
    "## Predicting Strokes\n",
    "\n",
    "In this part we analyse data about stroke cases and information about the individuals it pertains. We:\n",
    "  - open the data file and load the data into a pandas dataframe\n",
    "  - with libraries matplotlib and seaborn, draw a bar plot showing the stroke occurences based on the smoking status.\n",
    "  \n",
    "When analysing the plot we see that for people who smoked and formerly smoked, the occurence of no stroke is approximately the same. However\n",
    "the occurence of stroke is higher in the group who formerly smoked."
   ]
  },
  {
   "cell_type": "code",
   "execution_count": 41,
   "id": "0eb9f7b7-edde-424d-95fb-c76fd227f354",
   "metadata": {},
   "outputs": [],
   "source": [
    "df = pd.read_csv('stroke-data.csv')"
   ]
  },
  {
   "cell_type": "code",
   "execution_count": 42,
   "id": "414d8c2c-2b9a-45aa-8b72-c2fe886d2d5a",
   "metadata": {},
   "outputs": [
    {
     "data": {
      "image/png": "[encoded data removed]",
      "text/plain": [
       "<Figure size 1200x600 with 1 Axes>"
      ]
     },
     "metadata": {},
     "output_type": "display_data"
    }
   ],
   "source": [
    "plt.figure(figsize=(12, 6))\n",
    "sns.countplot(data=df, x='smoking_status', hue='stroke')\n",
    "\n",
    "plt.title('Stroke Occurrence based on Smoking Status')\n",
    "plt.xlabel('Smoking Status')\n",
    "plt.ylabel('Count')\n",
    "plt.legend(title='Stroke', labels=['No Stroke', 'Stroke'])\n",
    "\n",
    "plt.show()"
   ]
  }
 ],
 "metadata": {
  "kernelspec": {
   "display_name": "Python 3 (ipykernel)",
   "language": "python",
   "name": "python3"
  },
  "language_info": {
   "codemirror_mode": {
    "name": "ipython",
    "version": 3
   },
   "file_extension": ".py",
   "mimetype": "text/x-python",
   "name": "python",
   "nbconvert_exporter": "python",
   "pygments_lexer": "ipython3",
   "version": "3.9.13"
  }
 },
 "nbformat": 4,
 "nbformat_minor": 5
}
