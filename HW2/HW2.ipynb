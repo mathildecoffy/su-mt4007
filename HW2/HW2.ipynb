{
 "cells": [
  {
   "cell_type": "markdown",
   "id": "8897ec7d-e678-4b21-bcd6-761881cf9f19",
   "metadata": {},
   "source": [
    "# Introduction\n",
    "\n",
    "In this homework we work on three different tasks: housing price in Ekhagen, Swedish election of 2018, and predicting strokes."
   ]
  },
  {
   "cell_type": "markdown",
   "id": "8c030405-ba1f-488f-9540-c541468acb1a",
   "metadata": {
    "tags": []
   },
   "source": [
    "## Apartment prices\n",
    "We:\n",
    "  - open the .csv file and load it into a pandas data frame \n",
    "  - find the price per square meter (ppsqm)\n",
    "  - find the 5 most expensive properties by square meter by sorting the dataframe by ppsqm and display it in a table\n",
    "  - find the average ppsqm and print it.\n",
    "    \n",
    "An interestesting feature of the data is that the top 3 most expensive apartments are all located on the same street Ekhagsvägen. We notice that the ppsqm for these three apartments are similar."
   ]
  },
  {
   "cell_type": "code",
   "execution_count": 21,
   "id": "9e00f914-442b-4484-9f9e-fdfe230e7c8c",
   "metadata": {},
   "outputs": [],
   "source": [
    "import pandas as pd"
   ]
  },
  {
   "cell_type": "code",
   "execution_count": 7,
   "id": "a006156d-a5e0-40d0-8480-d7f66e63ff36",
   "metadata": {},
   "outputs": [],
   "source": [
    "df = pd.read_csv('Booli_sold.csv')"
   ]
  },
  {
   "cell_type": "code",
   "execution_count": 12,
   "id": "71b39117-97c2-4d76-90da-ac9bc7918a21",
   "metadata": {},
   "outputs": [
    {
     "name": "stdout",
     "output_type": "stream",
     "text": [
      "   listPrice    rent  livingArea  rooms            published  \\\n",
      "0    3995000  4467.0        73.0    3.0  2018-10-15 13:33:18   \n",
      "1    1995000  1773.0        36.0    1.0  2018-10-05 14:29:28   \n",
      "2    5100000  3839.0        81.0    3.0  2018-09-11 13:44:43   \n",
      "3    5495000  4483.0       107.0    4.0  2018-08-25 02:56:56   \n",
      "4    1995000  1696.0        29.0    1.0  2018-06-15 17:16:19   \n",
      "\n",
      "   constructionYear objectType  booliId    soldDate  soldPrice  ...  \\\n",
      "0            1935.0   Lägenhet  3263989  2018-11-08    3820000  ...   \n",
      "1            1968.0   Lägenhet  3256231  2018-10-19    2355000  ...   \n",
      "2            1936.0   Lägenhet  3236660  2018-09-27    6110000  ...   \n",
      "3            1936.0   Lägenhet  3224374  2018-09-06    8050000  ...   \n",
      "4            1936.0   Lägenhet  3185496  2018-06-18    2400000  ...   \n",
      "\n",
      "  location.position.longitude location.position.isApproximate  \\\n",
      "0                   18.054057                             NaN   \n",
      "1                   18.057821                             NaN   \n",
      "2                   18.054716                             NaN   \n",
      "3                   18.053880                             NaN   \n",
      "4                   18.053542                            True   \n",
      "\n",
      "   location.region.municipalityName  location.region.countyName  \\\n",
      "0                         Stockholm              Stockholms län   \n",
      "1                         Stockholm              Stockholms län   \n",
      "2                         Stockholm              Stockholms län   \n",
      "3                         Stockholm              Stockholms län   \n",
      "4                         Stockholm              Stockholms län   \n",
      "\n",
      "   location.distance.ocean        source.name source.id  source.type  \\\n",
      "0                      260               MOHV   1901865       Broker   \n",
      "1                      218              Notar      1566       Broker   \n",
      "2                      186  Historiska Hem AB  65645750       Broker   \n",
      "3                      218              Notar      1566       Broker   \n",
      "4                      166        Mäklarhuset       204       Broker   \n",
      "\n",
      "                   source.url         ppsqm  \n",
      "0         http://www.mohv.se/  52328.767123  \n",
      "1        http://www.notar.se/  65416.666667  \n",
      "2    http://historiskahem.se/  75432.098765  \n",
      "3        http://www.notar.se/  75233.644860  \n",
      "4  http://www.maklarhuset.se/  82758.620690  \n",
      "\n",
      "[5 rows x 28 columns]\n"
     ]
    }
   ],
   "source": [
    "# Look at the data to understand it better\n",
    "print(df.head())"
   ]
  },
  {
   "cell_type": "code",
   "execution_count": 11,
   "id": "1dd10fc2-309e-47f2-bd66-fe5fb0f3e3ee",
   "metadata": {},
   "outputs": [],
   "source": [
    "df['ppsqm'] = df['soldPrice'] / df['livingArea']"
   ]
  },
  {
   "cell_type": "code",
   "execution_count": 17,
   "id": "a75bc88b-512c-48a1-8464-daaf3a2a825b",
   "metadata": {},
   "outputs": [],
   "source": [
    "df_sorted = df.sort_values(by='ppsqm', ascending=False)"
   ]
  },
  {
   "cell_type": "code",
   "execution_count": 18,
   "id": "b60cae34-3eca-45c3-966d-e91ba737415e",
   "metadata": {},
   "outputs": [
    {
     "name": "stdout",
     "output_type": "stream",
     "text": [
      "            ppsqm  soldPrice  livingArea location.address.streetAddress\n",
      "67  104166.666667    2500000        24.0                  Ekhagsvägen 8\n",
      "50  102083.333333    2450000        24.0                  Ekhagsvägen 8\n",
      "54  100000.000000    2300000        23.0                 Ekhagsvägen 10\n",
      "34   88400.000000    2210000        25.0                Torphagsvägen 4\n",
      "55   85501.858736    2300000        26.9                Docentbacken 1B\n"
     ]
    }
   ],
   "source": [
    "print(df_sorted[['ppsqm', 'soldPrice', 'livingArea', 'location.address.streetAddress']].head(5))\n"
   ]
  },
  {
   "cell_type": "code",
   "execution_count": 19,
   "id": "ae9b93c4-126d-4e49-8538-7e52b5b69d2c",
   "metadata": {},
   "outputs": [],
   "source": [
    "average_ppsqm = df['ppsqm'].mean()"
   ]
  },
  {
   "cell_type": "code",
   "execution_count": 20,
   "id": "d0018f6b-6aa6-4d90-9448-0bbf1804f058",
   "metadata": {},
   "outputs": [
    {
     "name": "stdout",
     "output_type": "stream",
     "text": [
      "The average price per square meter (ppsqm) is: 58759.38\n"
     ]
    }
   ],
   "source": [
    "print(f\"The average price per square meter (ppsqm) is: {average_ppsqm:.2f}\")"
   ]
  },
  {
   "cell_type": "markdown",
   "id": "9f945f74-646e-4195-842b-21268c249163",
   "metadata": {},
   "source": []
  }
 ],
 "metadata": {
  "kernelspec": {
   "display_name": "Python 3 (ipykernel)",
   "language": "python",
   "name": "python3"
  },
  "language_info": {
   "codemirror_mode": {
    "name": "ipython",
    "version": 3
   },
   "file_extension": ".py",
   "mimetype": "text/x-python",
   "name": "python",
   "nbconvert_exporter": "python",
   "pygments_lexer": "ipython3",
   "version": "3.9.13"
  }
 },
 "nbformat": 4,
 "nbformat_minor": 5
}
